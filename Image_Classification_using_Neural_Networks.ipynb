{
  "nbformat": 4,
  "nbformat_minor": 0,
  "metadata": {
    "colab": {
      "provenance": [],
      "authorship_tag": "ABX9TyMe8TBRNQFtl1/4yPOnSxAb",
      "include_colab_link": true
    },
    "kernelspec": {
      "name": "python3",
      "display_name": "Python 3"
    },
    "language_info": {
      "name": "python"
    }
  },
  "cells": [
    {
      "cell_type": "markdown",
      "metadata": {
        "id": "view-in-github",
        "colab_type": "text"
      },
      "source": [
        "<a href=\"https://colab.research.google.com/github/raunaksatone5/Cifar10-neural-network/blob/main/Image_Classification_using_Neural_Networks.ipynb\" target=\"_parent\"><img src=\"https://colab.research.google.com/assets/colab-badge.svg\" alt=\"Open In Colab\"/></a>"
      ]
    },
    {
      "cell_type": "markdown",
      "source": [
        "# Image classification using Neural Networks\n",
        "### Dataset - CIFAR10"
      ],
      "metadata": {
        "id": "M17LLnJiDhD6"
      }
    },
    {
      "cell_type": "markdown",
      "source": [
        "importing required libraries and dependencies"
      ],
      "metadata": {
        "id": "Y7n2Zzt9DzYM"
      }
    },
    {
      "cell_type": "code",
      "source": [
        "import tensorflow as tf\n",
        "from tensorflow.keras.preprocessing import image_dataset_from_directory\n",
        "import matplotlib.pyplot as plt\n",
        "import numpy as np\n",
        "from tensorflow.keras import datasets"
      ],
      "metadata": {
        "id": "UIRsk3P_5K9L"
      },
      "execution_count": 35,
      "outputs": []
    },
    {
      "cell_type": "markdown",
      "source": [
        "Lets load the data into training and testing sets"
      ],
      "metadata": {
        "id": "457BFPDCD46b"
      }
    },
    {
      "cell_type": "code",
      "source": [
        "(X_train, y_train), (X_test, y_test) = datasets.cifar10.load_data()\n",
        "X_train.shape"
      ],
      "metadata": {
        "colab": {
          "base_uri": "https://localhost:8080/"
        },
        "id": "P4deX_Zi6E4W",
        "outputId": "4a062930-af98-4844-e87f-ba499896d018"
      },
      "execution_count": 36,
      "outputs": [
        {
          "output_type": "execute_result",
          "data": {
            "text/plain": [
              "(50000, 32, 32, 3)"
            ]
          },
          "metadata": {},
          "execution_count": 36
        }
      ]
    },
    {
      "cell_type": "code",
      "source": [
        "X_test.shape"
      ],
      "metadata": {
        "colab": {
          "base_uri": "https://localhost:8080/"
        },
        "id": "_ZaLM0_07KlT",
        "outputId": "a7bc2af9-5e2d-4538-83d6-49c56a4f9875"
      },
      "execution_count": 3,
      "outputs": [
        {
          "output_type": "execute_result",
          "data": {
            "text/plain": [
              "(10000, 32, 32, 3)"
            ]
          },
          "metadata": {},
          "execution_count": 3
        }
      ]
    },
    {
      "cell_type": "code",
      "source": [
        "classes = ['airplane','automobile','bird','cat','deer','dog','frog','horses','ship','truck']"
      ],
      "metadata": {
        "id": "AgbH2YyUzcMu"
      },
      "execution_count": 4,
      "outputs": []
    },
    {
      "cell_type": "markdown",
      "source": [
        "reshaping is necessary because we need 1D array to determine the class of the image"
      ],
      "metadata": {
        "id": "ffr16Px9EBKs"
      }
    },
    {
      "cell_type": "code",
      "source": [
        "y_train = y_train.reshape(-1,)"
      ],
      "metadata": {
        "id": "oKCX6Fbn0-ze"
      },
      "execution_count": 5,
      "outputs": []
    },
    {
      "cell_type": "code",
      "source": [
        "# function for plotting the image \n",
        "def plot_sample(X,y,index):\n",
        "  plt.figure(figsize = (10,2))\n",
        "  plt.imshow(X[index])\n",
        "  plt.xlabel(classes[y[index]])"
      ],
      "metadata": {
        "id": "e8oaPp-3zwti"
      },
      "execution_count": 6,
      "outputs": []
    },
    {
      "cell_type": "code",
      "source": [
        "plot_sample(X_train,y_train,1)"
      ],
      "metadata": {
        "colab": {
          "base_uri": "https://localhost:8080/",
          "height": 173
        },
        "id": "nfxaSLsP0Sds",
        "outputId": "eab2b277-792f-4163-f0e8-40728c27081d"
      },
      "execution_count": 7,
      "outputs": [
        {
          "output_type": "display_data",
          "data": {
            "text/plain": [
              "<Figure size 720x144 with 1 Axes>"
            ],
            "image/png": "[encoded data removed]"
          },
          "metadata": {
            "needs_background": "light"
          }
        }
      ]
    },
    {
      "cell_type": "code",
      "source": [
        "plot_sample(X_train,y_train,4)"
      ],
      "metadata": {
        "colab": {
          "base_uri": "https://localhost:8080/",
          "height": 173
        },
        "id": "-tFWj9UPuWT9",
        "outputId": "663157a7-d0c0-4d3c-830b-5f35fe14067e"
      },
      "execution_count": 8,
      "outputs": [
        {
          "output_type": "display_data",
          "data": {
            "text/plain": [
              "<Figure size 720x144 with 1 Axes>"
            ],
            "image/png": "[encoded data removed]"
          },
          "metadata": {
            "needs_background": "light"
          }
        }
      ]
    },
    {
      "cell_type": "markdown",
      "source": [
        "Normalizing the training data"
      ],
      "metadata": {
        "id": "OCNh8kdQu1ud"
      }
    },
    {
      "cell_type": "code",
      "source": [
        "X_train = X_train / 255.0\n",
        "X_test = X_test / 255.0"
      ],
      "metadata": {
        "id": "zl1CEPIMuy-6"
      },
      "execution_count": 9,
      "outputs": []
    },
    {
      "cell_type": "markdown",
      "source": [
        "Building simple artificial neural network for image classification"
      ],
      "metadata": {
        "id": "F2jBmkQeu8w2"
      }
    },
    {
      "cell_type": "code",
      "source": [
        "from tensorflow.keras import models, layers"
      ],
      "metadata": {
        "id": "qrBlnrhIwORg"
      },
      "execution_count": 10,
      "outputs": []
    },
    {
      "cell_type": "code",
      "source": [
        "ann = models.Sequential([\n",
        "    layers.Flatten(input_shape = (32,32,3)),\n",
        "    layers.Dense(3000, activation = 'relu'),\n",
        "    layers.Dense(1000, activation = 'relu'),\n",
        "    layers.Dense(10, activation = 'softmax')])\n",
        "\n",
        "ann.compile(optimizer = 'SGD', loss = 'sparse_categorical_crossentropy',\n",
        "            metrics = ['accuracy'])\n",
        "\n",
        "ann.fit(X_train,y_train,epochs=5)\n"
      ],
      "metadata": {
        "colab": {
          "base_uri": "https://localhost:8080/"
        },
        "id": "6eB0lsuiu-Az",
        "outputId": "b1b78915-97fa-442b-a18b-8bccb6556cdd"
      },
      "execution_count": 11,
      "outputs": [
        {
          "output_type": "stream",
          "name": "stdout",
          "text": [
            "Epoch 1/5\n",
            "1563/1563 [==============================] - 106s 67ms/step - loss: 1.8092 - accuracy: 0.3545\n",
            "Epoch 2/5\n",
            "1563/1563 [==============================] - 103s 66ms/step - loss: 1.6230 - accuracy: 0.4260\n",
            "Epoch 3/5\n",
            "1563/1563 [==============================] - 103s 66ms/step - loss: 1.5395 - accuracy: 0.4571\n",
            "Epoch 4/5\n",
            "1563/1563 [==============================] - 132s 84ms/step - loss: 1.4807 - accuracy: 0.4784\n",
            "Epoch 5/5\n",
            "1563/1563 [==============================] - 136s 87ms/step - loss: 1.4288 - accuracy: 0.4980\n"
          ]
        },
        {
          "output_type": "execute_result",
          "data": {
            "text/plain": [
              "<keras.callbacks.History at 0x7f3220ba16d0>"
            ]
          },
          "metadata": {},
          "execution_count": 11
        }
      ]
    },
    {
      "cell_type": "markdown",
      "source": [
        "After 5 epochs we got accuracy as 0.4979"
      ],
      "metadata": {
        "id": "VmdnKjz2yoIr"
      }
    },
    {
      "cell_type": "code",
      "source": [
        "from sklearn.metrics import confusion_matrix , classification_report\n",
        "y_pred = ann.predict(X_test)\n",
        "y_pred_classes = [np.argmax(element) for element in y_pred]\n",
        "print(print(\"Classification Report: \\n\", classification_report(y_test, y_pred_classes)))"
      ],
      "metadata": {
        "colab": {
          "base_uri": "https://localhost:8080/"
        },
        "id": "OtW_aolryz99",
        "outputId": "a99e1aed-15ef-42e7-997e-afca2ebd32f2"
      },
      "execution_count": 12,
      "outputs": [
        {
          "output_type": "stream",
          "name": "stdout",
          "text": [
            "313/313 [==============================] - 9s 28ms/step\n",
            "Classification Report: \n",
            "               precision    recall  f1-score   support\n",
            "\n",
            "           0       0.51      0.58      0.54      1000\n",
            "           1       0.51      0.71      0.59      1000\n",
            "           2       0.42      0.29      0.34      1000\n",
            "           3       0.37      0.32      0.34      1000\n",
            "           4       0.50      0.35      0.41      1000\n",
            "           5       0.41      0.33      0.37      1000\n",
            "           6       0.58      0.44      0.50      1000\n",
            "           7       0.52      0.57      0.55      1000\n",
            "           8       0.51      0.68      0.59      1000\n",
            "           9       0.47      0.58      0.52      1000\n",
            "\n",
            "    accuracy                           0.48     10000\n",
            "   macro avg       0.48      0.48      0.47     10000\n",
            "weighted avg       0.48      0.48      0.47     10000\n",
            "\n",
            "None\n"
          ]
        }
      ]
    },
    {
      "cell_type": "markdown",
      "source": [
        "Lets try using CNN "
      ],
      "metadata": {
        "id": "UsXewBe6yvT7"
      }
    },
    {
      "cell_type": "code",
      "source": [
        "cnn = models.Sequential([\n",
        "    layers.Conv2D(filters=32, kernel_size=(3, 3), activation='relu', input_shape=(32, 32, 3)),\n",
        "    layers.MaxPooling2D((2, 2)),\n",
        "    \n",
        "    layers.Conv2D(filters=64, kernel_size=(3, 3), activation='relu'),\n",
        "    layers.MaxPooling2D((2, 2)),\n",
        "    \n",
        "    layers.Flatten(),\n",
        "    layers.Dense(64, activation='relu'),\n",
        "    layers.Dense(10, activation='softmax')\n",
        "])"
      ],
      "metadata": {
        "id": "uz26nNpBym3D"
      },
      "execution_count": 13,
      "outputs": []
    },
    {
      "cell_type": "code",
      "source": [
        "cnn.compile(optimizer = 'adam', loss = 'sparse_categorical_crossentropy',\n",
        "            metrics = ['accuracy'])"
      ],
      "metadata": {
        "id": "nSkRon-J0ks0"
      },
      "execution_count": 14,
      "outputs": []
    },
    {
      "cell_type": "code",
      "source": [
        "cnn.fit(X_train,y_train,epochs=10)"
      ],
      "metadata": {
        "colab": {
          "base_uri": "https://localhost:8080/"
        },
        "id": "JpfuwgQ_0wwn",
        "outputId": "0a83f9a0-7c96-48a2-a946-ef007664ab22"
      },
      "execution_count": 15,
      "outputs": [
        {
          "output_type": "stream",
          "name": "stdout",
          "text": [
            "Epoch 1/10\n",
            "1563/1563 [==============================] - 71s 45ms/step - loss: 1.5131 - accuracy: 0.4524\n",
            "Epoch 2/10\n",
            "1563/1563 [==============================] - 71s 45ms/step - loss: 1.1390 - accuracy: 0.6002\n",
            "Epoch 3/10\n",
            "1563/1563 [==============================] - 69s 44ms/step - loss: 0.9998 - accuracy: 0.6502\n",
            "Epoch 4/10\n",
            "1563/1563 [==============================] - 75s 48ms/step - loss: 0.9161 - accuracy: 0.6815\n",
            "Epoch 5/10\n",
            "1563/1563 [==============================] - 69s 44ms/step - loss: 0.8492 - accuracy: 0.7062\n",
            "Epoch 6/10\n",
            "1563/1563 [==============================] - 66s 42ms/step - loss: 0.8024 - accuracy: 0.7197\n",
            "Epoch 7/10\n",
            "1563/1563 [==============================] - 72s 46ms/step - loss: 0.7539 - accuracy: 0.7378\n",
            "Epoch 8/10\n",
            "1563/1563 [==============================] - 92s 59ms/step - loss: 0.7123 - accuracy: 0.7544\n",
            "Epoch 9/10\n",
            "1563/1563 [==============================] - 72s 46ms/step - loss: 0.6762 - accuracy: 0.7662\n",
            "Epoch 10/10\n",
            "1563/1563 [==============================] - 67s 43ms/step - loss: 0.6430 - accuracy: 0.7762\n"
          ]
        },
        {
          "output_type": "execute_result",
          "data": {
            "text/plain": [
              "<keras.callbacks.History at 0x7f321e155f40>"
            ]
          },
          "metadata": {},
          "execution_count": 15
        }
      ]
    },
    {
      "cell_type": "markdown",
      "source": [
        "With CNN, at the end 5 epochs, accuracy was at around 70% which is a significant improvement over ANN. CNN's are best for image classification and gives superb accuracy. Also computation is much less compared to simple ANN as maxpooling reduces the image dimensions while still preserving the features"
      ],
      "metadata": {
        "id": "WzWUxvAcYZYU"
      }
    },
    {
      "cell_type": "code",
      "source": [
        "cnn.evaluate(X_test,y_test)"
      ],
      "metadata": {
        "colab": {
          "base_uri": "https://localhost:8080/"
        },
        "id": "MBElatsqR8QU",
        "outputId": "c4cf4ce2-ada4-4cde-9214-ed8ab37d44cf"
      },
      "execution_count": 16,
      "outputs": [
        {
          "output_type": "stream",
          "name": "stdout",
          "text": [
            "313/313 [==============================] - 5s 14ms/step - loss: 0.9109 - accuracy: 0.7003\n"
          ]
        },
        {
          "output_type": "execute_result",
          "data": {
            "text/plain": [
              "[0.910896897315979, 0.7002999782562256]"
            ]
          },
          "metadata": {},
          "execution_count": 16
        }
      ]
    },
    {
      "cell_type": "code",
      "source": [
        "y_pred = cnn.predict(X_test)\n",
        "y_pred[:5]"
      ],
      "metadata": {
        "colab": {
          "base_uri": "https://localhost:8080/"
        },
        "id": "Jxkd2bwIYccL",
        "outputId": "53522038-332d-4467-c795-3f298783f903"
      },
      "execution_count": 17,
      "outputs": [
        {
          "output_type": "stream",
          "name": "stdout",
          "text": [
            "313/313 [==============================] - 5s 15ms/step\n"
          ]
        },
        {
          "output_type": "execute_result",
          "data": {
            "text/plain": [
              "array([[7.5967647e-03, 8.5859204e-04, 1.7201441e-03, 5.2167082e-01,\n",
              "        1.3945569e-04, 9.1090649e-03, 1.0081871e-02, 7.7241006e-05,\n",
              "        4.4870421e-01, 4.1848562e-05],\n",
              "       [1.0612762e-02, 7.5753167e-02, 2.9445539e-06, 3.7503480e-07,\n",
              "        4.2342594e-07, 1.1442252e-08, 1.7924076e-07, 1.8817998e-09,\n",
              "        9.1202295e-01, 1.6071324e-03],\n",
              "       [4.0050140e-01, 7.1655519e-02, 9.1102847e-04, 3.5463748e-03,\n",
              "        2.7501379e-04, 1.0906146e-04, 1.8644575e-03, 2.4272290e-03,\n",
              "        4.4681972e-01, 7.1890153e-02],\n",
              "       [8.5800016e-01, 6.6373516e-03, 3.1040451e-03, 2.0270461e-04,\n",
              "        1.1247715e-04, 1.2834995e-06, 7.8303572e-05, 4.7758815e-05,\n",
              "        1.2904738e-01, 2.7685664e-03],\n",
              "       [4.1885996e-06, 1.2372324e-05, 7.3293778e-03, 2.5291729e-03,\n",
              "        1.0797104e-02, 2.2449400e-04, 9.7908485e-01, 7.0899567e-08,\n",
              "        1.8199342e-05, 2.4930955e-07]], dtype=float32)"
            ]
          },
          "metadata": {},
          "execution_count": 17
        }
      ]
    },
    {
      "cell_type": "code",
      "source": [
        "y_classes = [np.argmax(element) for element in y_pred]\n",
        "y_classes[:5]"
      ],
      "metadata": {
        "colab": {
          "base_uri": "https://localhost:8080/"
        },
        "id": "yTaSg_7mYeIw",
        "outputId": "48fa7ca5-a1d2-4b34-b716-4b601d01a6ce"
      },
      "execution_count": 18,
      "outputs": [
        {
          "output_type": "execute_result",
          "data": {
            "text/plain": [
              "[3, 8, 8, 0, 6]"
            ]
          },
          "metadata": {},
          "execution_count": 18
        }
      ]
    },
    {
      "cell_type": "code",
      "source": [
        "y_test[:5]"
      ],
      "metadata": {
        "colab": {
          "base_uri": "https://localhost:8080/"
        },
        "id": "096gP6lTYgG7",
        "outputId": "09308b9d-e570-4cb5-f196-45906aecc64e"
      },
      "execution_count": 19,
      "outputs": [
        {
          "output_type": "execute_result",
          "data": {
            "text/plain": [
              "array([[3],\n",
              "       [8],\n",
              "       [8],\n",
              "       [0],\n",
              "       [6]], dtype=uint8)"
            ]
          },
          "metadata": {},
          "execution_count": 19
        }
      ]
    },
    {
      "cell_type": "code",
      "source": [
        "y_test = y_test.reshape(-1,)"
      ],
      "metadata": {
        "id": "7oyMuLPJYm4z"
      },
      "execution_count": 37,
      "outputs": []
    },
    {
      "cell_type": "code",
      "source": [
        "plot_sample(X_test, y_test,4)"
      ],
      "metadata": {
        "colab": {
          "base_uri": "https://localhost:8080/",
          "height": 173
        },
        "id": "p6nCxUbNYivf",
        "outputId": "4c4bd785-0a75-46db-f6ed-f9cf7f85caac"
      },
      "execution_count": 38,
      "outputs": [
        {
          "output_type": "display_data",
          "data": {
            "text/plain": [
              "<Figure size 720x144 with 1 Axes>"
            ],
            "image/png": "[encoded data removed]"
          },
          "metadata": {
            "needs_background": "light"
          }
        }
      ]
    },
    {
      "cell_type": "code",
      "source": [
        "classes[y_classes[4]]"
      ],
      "metadata": {
        "colab": {
          "base_uri": "https://localhost:8080/",
          "height": 36
        },
        "id": "AqtjZzgOYmCA",
        "outputId": "61ce1c82-5496-4668-a909-29208e1f8452"
      },
      "execution_count": 26,
      "outputs": [
        {
          "output_type": "execute_result",
          "data": {
            "text/plain": [
              "'frog'"
            ],
            "application/vnd.google.colaboratory.intrinsic+json": {
              "type": "string"
            }
          },
          "metadata": {},
          "execution_count": 26
        }
      ]
    },
    {
      "cell_type": "code",
      "source": [
        "classes[y_classes[4]]"
      ],
      "metadata": {
        "colab": {
          "base_uri": "https://localhost:8080/",
          "height": 36
        },
        "id": "MMEMU2FpYxlZ",
        "outputId": "7f7b55b7-e363-4ff1-f329-1fb572b1065f"
      },
      "execution_count": 27,
      "outputs": [
        {
          "output_type": "execute_result",
          "data": {
            "text/plain": [
              "'frog'"
            ],
            "application/vnd.google.colaboratory.intrinsic+json": {
              "type": "string"
            }
          },
          "metadata": {},
          "execution_count": 27
        }
      ]
    },
    {
      "cell_type": "markdown",
      "source": [
        "Since CNN's are meant to perform best on the image data whike ANN's are good for tabular or text data, we can see that through the accuracies we are getting."
      ],
      "metadata": {
        "id": "2jdvIUM4Gazs"
      }
    }
  ]
}